{
 "cells": [
  {
   "cell_type": "markdown",
   "metadata": {},
   "source": [
    "# Descripción de la base de datos"
   ]
  },
  {
   "cell_type": "markdown",
   "metadata": {},
   "source": [
    "Tomado de [aquí](http://lisp.vse.cz/pkdd99/Challenge/tsumoto.htm)."
   ]
  },
  {
   "cell_type": "markdown",
   "metadata": {},
   "source": [
    "## Domain\n",
    "\n",
    "The database was collected at Chiba University hospital. Each patient came to the outpatient clinic of the hospital on collagen diseases, as recommended by a home doctor or a general physician in the local hospital.\n",
    "\n",
    "Collagen diseases are auto-immune diseases. Patients generate antibodies attacking their own bodies. For example, if a patient generates antibodies in lungs, he/she will chronically lose the respiratory function and finally lose life. The disease mechanisms are only partially known and their classification is still fuzzy. Some patients may generate many kinds of antibodies and their manifestations may include all the characteristics of collagen diseases.\n",
    "\n",
    "In collagen diseases, thrombosis is one of the most important and severe complications, one of the major causes of death. Thrombosis is an increased coagulation of blood, that cloggs blood vessels. Usually it will last several hours and can repeat over time. Thrombosis can arise from different collagen diseases. It has been found that this complication is closely related to anti-cardiolipin antibodies. This was discovered by physicians, one of whom donated the datasets for discovery challenge.\n",
    "\n",
    "Thrombosis must be treated as an emergency. It is important to detect and predict the possibilities of its occurence. However, such database analysis has not been made by any experts on immunology. Domain experts are very much interested in discovering regularities behind patients' observations."
   ]
  },
  {
   "cell_type": "markdown",
   "metadata": {},
   "source": [
    " ## Goals\n",
    "\n",
    "1. Search for patterns which detect and predict thrombosis.\n",
    "2. Search for temporal patterns specific/sensitive to thrombosis. (Examination date is very close to the date on thrombosis. If we can find specific/sensitive patterns before/after the thrombosis, they are very useful.)\n",
    "3. Search for features which classifies collagen diseases correctly.\n",
    "4. Search for temporal patterns specific/sensitive to each collagen disease."
   ]
  },
  {
   "cell_type": "markdown",
   "metadata": {},
   "source": [
    "\n",
    "<p>&nbsp;</p>\n",
    "<H3>TSUM_A.CSV</H3>\n",
    "<p>Basic information about patients (input by doctors).\n",
    "This dataset includes all patients (about 1000 records).</p>\n",
    "\n",
    "<TABLE CELLSPACING=0 BORDER CELLPADDING=4 WIDTH=85%>\n",
    "<TR><TH>item</TH><TH>meaning</TH><TH>remark</TH></TR>\n",
    "<TR><TD>ID</TD><TD>identification of the patient</TD><TD></TD></TR>\n",
    "<TR><TD>Sex</TD><TD></TD><TD></TD></TR>\n",
    "<TR><TD>Birthday</TD><TD></TD><TD>YYYY/M/D</TD></TR>\n",
    "<TR><TD>Description date</TD><TD>the first date when a patient data was\n",
    "recorded</TD><TD>YY.MM.DD</TD></TR>\n",
    "<TR><TD>First date</TD><TD>the date when a patient came to the hospital</TD>\n",
    "<TD>YY.MM.DD</TD></TR>\n",
    "<TR><TD>Admission</TD><TD>patient was admitted to the hospital (+) or followed\n",
    "at the outpatient clinic (-)</TD><TD></TD></TR>\n",
    "<TR><TD>Diagnosis</TD><TD>\n",
    "disease names</TD><TD>multivalued attribute</TD></TR>\n",
    "</TABLE>\n",
    "\n",
    "<p>&nbsp;</p>\n",
    "<H3>TSUM_B.CSV</H3>\n",
    "<p>Special laboratory examinations (input by doctors)\n",
    "   (measured by the Laboratory on Collagen Diseases). This \n",
    "dataset does not include all the patients,\n",
    " but includes the patients with these special tests.</P>\n",
    "\n",
    "<TABLE CELLSPACING=0 BORDER CELLPADDING=4 WIDTH=85%>\n",
    "<TR><TH>item</TH><TH>meaning</TH><TH>remark</TH></TR>\n",
    "<TR><TD>ID</TD><TD>identification of the patient</TD><TD></TD></TR>\n",
    "<TR><TD>Examination Date</TD><TD>date of the test</TD><TD>YYYY/MM/DD</TD></TR>\n",
    "<TR><TD>aCL IgG</TD><TD>anti-Cardiolipin antibody (IgG) concentration<TD></TD></TR>\n",
    "<TR><TD>aCL IgM</TD><TD>anti-Cardiolipin antibody (IgM) concentration<TD></TD></TR>\n",
    "<TR><TD>ANA</TD><TD>anti-nucleus antibody concentration</TD><TD></TD></TR>\n",
    "<TR><TD>ANA Pattern</TD><TD> pattern observed in the sheet of ANA\n",
    "examination</TD><TD></TD></TR>\n",
    "<TR><TD>aCL IgA</TD><TD>anti-Cardiolipin antibody (IgA) concentration</TD><TD></TD></TR>\n",
    "<TR><TD>Diagnosis</TD><TD>disease names</TD><TD>multivalued attribute</TD></TR>\n",
    "<TR><TD>KCT</TD><TD>meassure of degree of coagulation</TD><TD></TD></TR>\n",
    "<TR><TD>RVVT</TD><TD>meassure of degree of coagulation</TD><TD></TD></TR> \n",
    "<TR><TD>LAC</TD><TD>meassure of degree of coagulation</TD><TD></TD></TR>\n",
    "<TR><TD>Symptoms</TD><TD>other symptoms observed \n",
    "</TD><TD>multivalued attribute</TD></TR>\n",
    "<TR><TD>Thrombosis</TD><TD>degree of thrombosis</TD>\n",
    "<TD>0: negative (no thrombosis) <br> 1: positive (the most severe one)<br> 2: positive\n",
    "(severe) <br>\n",
    "3: positive (mild)</TD></TR>\n",
    "</TABLE>\n",
    "<br>\n",
    "Examination date is very close to the date on thrombosis. In negative examples, these tests are \n",
    "examined when thrombosis is suspected.\n",
    "\n",
    "<p>&nbsp;</p>\n",
    "<H3>TSUM_C.CSV</H3>\n",
    "<p> Laboratory Examinations stored in Hospital Information Systems\n",
    "(Stored from 1980 to March 1999) All the data include ordinary laboratory examinations\n",
    "and have temporal stamps. The tests are not necessarily connected to\n",
    "thrombosis.</p>\n",
    "\n",
    "\n",
    "<TABLE CELLSPACING=0 BORDER CELLPADDING=4 WIDTH=85%>\n",
    "<TR><TH>item</TH><TH>meaning</TH><TH>normal range</TH></TR>\n",
    "<TR><TD>ID</TD><TD>identification of the patient</TD><TD></TD></TR>\n",
    "<TR><TD>Date</TD><TD>Date of the laboratory tests (YYMMDD)</TD><TD></TD></TR>\n",
    "<TR><TD>GOT</TD><TD>AST glutamic oxaloacetic transaminase</TD><TD>N < 60</TD></TR>\n",
    "<TR><TD>GPT</TD><TD>ALT glutamic pylvic transaminase</TD><TD>N < 60</TD></TR>\n",
    "<TR><TD>LDH</TD><TD>lactate dehydrogenase</TD><TD>N < 500</TD></TR>\n",
    "<TR><TD>ALP</TD><TD>alkaliphophatase</TD><TD>N < 300</TD></TR>\n",
    "<TR><TD>TP</TD><TD>total protein</TD><TD>6.0 < N < 8.5</TD></TR>\n",
    "<TR><TD>ALB</TD><TD>albumin</TD><TD>3.5 < N < 5.5</TD></TR>\n",
    "<TR><TD>UA</TD><TD>uric acid</TD><TD>N > 8.0 (Male) <br> N > 6.5 (Female)</TD></TR>\n",
    "<TR><TD>UN</TD><TD>urea nitrogen</TD><TD>N < 30</TD></TR>\n",
    "<TR><TD>CRE</TD><TD>creatinine</TD><TD>N < 1.5</TD></TR>\n",
    "<TR><TD>T-BIL</TD><TD>total bilirubin</TD><TD>N < 2.0</TD></TR>\n",
    "<TR><TD>T-CHO</TD><TD>total cholesterol</TD><TD>N < 250</TD></TR>\n",
    "<TR><TD>TG</TD><TD>triglyceride</TD><TD>N < 200</TD></TR>\n",
    "<TR><TD>CPK</TD><TD>creatinine phosphokinase</TD><TD>N < 250</TD></TR>\n",
    "<TR><TD>GLU</TD><TD>blood glucose</TD><TD>N < 180</TD></TR>\n",
    "<TR><TD>WBC</TD><TD>White blood cell</TD><TD>3.5 < N < 9.0</TD></TR>\n",
    "<TR><TD>RBC</TD><TD>Red blood cell</TD><TD>3.5 < N < 6.0</TD></TR>\n",
    "<TR><TD>HGB</TD><TD>Hemoglobin</TD><TD>10 < N < 17</TD></TR>\n",
    "<TR><TD>HCT</TD><TD>Hematoclit</TD><TD>29 < N < 52</TD></TR>\n",
    "<TR><TD>PLT</TD><TD>platelet</TD><TD>100 < N < 400</TD></TR>\n",
    "<TR><TD>PT</TD><TD>prothrombin time</TD><TD>N < 14</TD></TR>\n",
    "<TR><TD>Note</TD><TD>comment for the test PT</TD><TD></TD></TR>\n",
    "<TR><TD>APTT</TD><TD>activated partial prothrombin time</TD><TD>N < 45</TD></TR>\n",
    "<TR><TD>FG</TD><TD>fibrinogen</TD><TD>150 < N < 450</TD></TR>\n",
    "<TR><TD>AT3</TD><TD>marker of DIC, one of the most important\n",
    "complications\n",
    "of collagen diseases</TD><TD>70 < N < 130</TD</TR>\n",
    "<TR><TD>A2PI</TD><TD>marker of DIC</TD><TD>70 < N < 130</TD></TR>\n",
    "<TR><TD>U-PRO</TD><TD>proteinuria</TD><TD>0 < N < 30</TD></TR>\n",
    "<TR><TD>IGG</TD><TD>Ig G</TD><TD>900 < N < 2000</TD></TR>\n",
    "<TR><TD>IGA</TD><TD>Ig A</TD><TD>80 < N < 500</TD></TR>\n",
    "<TR><TD>IGM</TD><TD>Ig M</TD><TD>40 < N < 400</TD></TR>\n",
    "<TR><TD>CRP</TD><TD>C-reactive protein</TD><TD>N= -, +-,   or  N < 1.0</TD></TR>\n",
    "<TR><TD>RA</TD><TD>Rhuematoid Factor</TD><TD>N= -, +-</TD></TR>\n",
    "<TR><TD>RF</TD><TD>RAHA</TD><TD>N < 20</TD></TR>\n",
    "<TR><TD>C3</TD><TD>complement 3</TD><TD>N > 35</TD></TR>\n",
    "<TR><TD>C4</TD><TD>complement 4</TD><TD>N > 10</TD></TR>\n",
    "<TR><TD>RNP</TD><TD>anti-ribonuclear protein</TD><TD>N= -, +-</TD></TR>\n",
    "<TR><TD>SM</TD><TD>anti-SM</TD><TD>N= -, +-</TD></TR>\n",
    "<TR><TD>SCl70</TD><TD>anti-scl70</TD><TD>N= -, +-</TD></TR>\n",
    "<TR><TD>SSA</TD><TD>anti-SSA</TD><TD>N= -, +-</TD></TR>\n",
    "<TR><TD>SSB</TD><TD>anti-SSB</TD><TD>N= -, +-</TD></TR>\n",
    "<TR><TD>CENTROMEA</TD><TD>anti-centromere</TD><TD>N= -, +-</TD></TR>\n",
    "<TR><TD>DNA</TD><TD>anti-DNA</TD><TD>N < 8</TD></TR>\n",
    "<TR><TD>DNA-II</TD><TD>anti-DNA</TD><TD>N < 8</TD></TR>\n",
    "</TABLE>\n"
   ]
  },
  {
   "cell_type": "markdown",
   "metadata": {
    "collapsed": true
   },
   "source": [
    "# Ejercicio\n",
    "\n",
    "Con lo aprendido en la introducción, realiza lo siguiente"
   ]
  },
  {
   "cell_type": "markdown",
   "metadata": {},
   "source": [
    "1. Lee los archivos y colocalos en diferentes `RDD`\n",
    "2. Limpialos los _datasets_ (crea nuevas variables, recodifica, etc)\n",
    "2. Revisa las tablas de arriba ¿Puedes imaginar tener una sola fuente de datos?\n",
    "3. Coloca cada `RDD` en una tabla temporal\n",
    "4. Realiza `queries` para ver que todo esté bien cargado.\n",
    "5. Une las tablas en una nueva usando `SQL` ¿Se te ocurre otra manera de hacerlo?\n",
    "6. Lluvia de ideas para realizar análisis\n",
    "7. Lluvia de ideas para visualización"
   ]
  },
  {
   "cell_type": "code",
   "execution_count": null,
   "metadata": {
    "collapsed": true
   },
   "outputs": [],
   "source": []
  }
 ],
 "metadata": {
  "kernelspec": {
   "display_name": "R",
   "language": "R",
   "name": "ir"
  },
  "language_info": {
   "codemirror_mode": "r",
   "file_extension": ".r",
   "mimetype": "text/x-r-source",
   "name": "R",
   "pygments_lexer": "r",
   "version": "3.2.2"
  }
 },
 "nbformat": 4,
 "nbformat_minor": 0
}
